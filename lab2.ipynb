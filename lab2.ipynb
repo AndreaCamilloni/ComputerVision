{
 "cells": [
  {
   "cell_type": "markdown",
   "metadata": {},
   "source": [
    "# Lab 2: Edge detection & Hough transform\n",
    "\n",
    "In this lab you will implement a differential geometry based edge detector that works on multiple\n",
    "scales, and apply the results from this operator to detect lines with the Hough transform.\n",
    "\n",
    "The goal of this lab is for you to understand how differential geometry based edge detection and\n",
    "the Hough transform works as well as gain practical experience in applying these operations to real\n",
    "data and learn the characteristics of the methods, including how important the choice of scale is\n",
    "for edge detection.\n",
    "\n",
    "As prerequisites to this lab you should have read the course material on differential operators,\n",
    "edge detection and Hough transform. You should also preferably have completed and presented the\n",
    "results from Lab 1.\n",
    "\n",
    "Reporting: When reporting this lab emphasis is placed on: For parts 1-4 the experimental results and\n",
    "interpretations/explanation of these, are the most central. For parts 5-6 you should also have created\n",
    "well functioning and structured functions in Python, that respectively perform edge detection and\n",
    "accumulation in the Hough domain.\n",
    "\n",
    "You are recommended to use the command subplot to assemble multiple results into figures, thus\n",
    "simplifying the interpretation of these. In the answer sheet write down summarizing conclusions\n",
    "and compile results for the explicitly stated exercises and questions.\n",
    "\n",
    "Advice: Read through all the lab instructions before you begin and prepare some principle solutions\n",
    "before you start writing the code to Exercise 6. Read through the hints and practical suggestions\n",
    "in section 6.1. Perform some simple experiments to analyze the behavior for different coordinate\n",
    "systems used to access pixels in images and curves respectively"
   ]
  },
  {
   "cell_type": "code",
   "execution_count": null,
   "metadata": {},
   "outputs": [],
   "source": [
    "import numpy as np\n",
    "#from numpy.fft import fft2, ifft2, fftshift\n",
    "from scipy.signal import convolve2d, correlate2d\n",
    "import matplotlib.pyplot as plt\n",
    "\n",
    "from Functions import *\n",
    "from gaussfft import gaussfft\n",
    "\n",
    "from lab2 import *"
   ]
  },
  {
   "cell_type": "markdown",
   "metadata": {},
   "source": [
    "## 1. Difference operators"
   ]
  },
  {
   "cell_type": "code",
   "execution_count": null,
   "metadata": {},
   "outputs": [],
   "source": [
    "tools = np.load(\"Images-npy/few256.npy\")\n",
    "\n",
    "dxtools = convolve2d(tools, deltax(), 'valid')\n",
    "dytools = convolve2d(tools, deltay(), 'valid')"
   ]
  },
  {
   "cell_type": "markdown",
   "metadata": {},
   "source": [
    "Question 1: What do you expect the results to look like and why? Compare the size of dxtools\n",
    "with the size of tools. Why are these sizes different?"
   ]
  },
  {
   "cell_type": "markdown",
   "metadata": {},
   "source": [
    "## 2. Point–wise thresholding of gradient magnitudes"
   ]
  },
  {
   "cell_type": "markdown",
   "metadata": {},
   "source": [
    "Question 2: Is it easy to find a threshold that results in thin edges? Explain why or why not!"
   ]
  },
  {
   "cell_type": "markdown",
   "metadata": {},
   "source": [
    "Question 3: Does smoothing the image help to find edges?"
   ]
  },
  {
   "cell_type": "markdown",
   "metadata": {},
   "source": [
    "## 3. Differential geometry based edge detection: Theory"
   ]
  },
  {
   "cell_type": "markdown",
   "metadata": {},
   "source": [
    "## 4. Computing differential geometry descriptors"
   ]
  },
  {
   "cell_type": "markdown",
   "metadata": {},
   "source": [
    "Question 4: What can you observe? Provide explanation based on the generated images.\n",
    "Study the sign of the third order derivative in the gradient direction by loading the image\n",
    "tools = np.load(\"Images-npy/few256.npy\")\n",
    "and show the result of\n",
    "showgrey((Lvvvtilde(discgaussfft(tools, scale), ’same’)<0).astype(int))\n",
    "for the same values of scale. What is the effect of the sign condition in this differential expression?\n"
   ]
  },
  {
   "cell_type": "markdown",
   "metadata": {},
   "source": [
    "Question 5: Assemble the results of the experiment above into an illustrative collage with the\n",
    "subplot command. Which are your observations and conclusions? "
   ]
  },
  {
   "cell_type": "markdown",
   "metadata": {},
   "source": [
    "Question 6: How can you use the response from L˜\n",
    "vv to detect edges, and how can you improve\n",
    "the result by using L˜\n",
    "vvv?\n"
   ]
  },
  {
   "cell_type": "markdown",
   "metadata": {},
   "source": [
    "## 5. Extraction of edge segments"
   ]
  },
  {
   "cell_type": "markdown",
   "metadata": {},
   "source": [
    "Question 7: Present your best results obtained with extractedge() for house and tools"
   ]
  },
  {
   "cell_type": "markdown",
   "metadata": {},
   "source": [
    "## 6. Hough transform"
   ]
  },
  {
   "cell_type": "markdown",
   "metadata": {},
   "source": [
    "Question 8: Identify the correspondences between the strongest peaks in the accumulator and\n",
    "line segments in the output image. Doing so convince yourself that the implementation is correct.\n",
    "Summarize the results in one or more figures."
   ]
  },
  {
   "cell_type": "markdown",
   "metadata": {},
   "source": [
    "Question 9: How do the results and computational time depend on the number of cells in the\n",
    "accumulator?"
   ]
  },
  {
   "cell_type": "markdown",
   "metadata": {},
   "source": [
    "Question 10: How do you propose to do this? Try out a function that you would suggest and see\n",
    "if it improves the results. Does it?"
   ]
  },
  {
   "cell_type": "code",
   "execution_count": null,
   "metadata": {},
   "outputs": [],
   "source": [
    "\n",
    "# Exercise 1\n",
    "if 0:\n",
    "\tprint(\"That was a stupid idea\")\n",
    "        \n",
    "       \n",
    "\n",
    "def Lv(inpic, shape = 'same'):\n",
    "        # ...\n",
    "        return result\n",
    "\n",
    "def Lvvtilde(inpic, shape = 'same'):\n",
    "        # ...\n",
    "        return result\n",
    "\n",
    "def Lvvvtilde(inpic, shape = 'same'):\n",
    "        # ...\n",
    "        return result\n",
    "\n",
    "def extractedge(inpic, scale, threshold, shape):\n",
    "        # ...\n",
    "        return contours\n",
    "        \n",
    "def houghline(curves, magnitude, nrho, ntheta, threshold, nlines = 20, verbose = False):\n",
    "        # ...\n",
    "        return linepar, acc\n",
    "\n",
    "def houghedgeline(pic, scale, gradmagnthreshold, nrho, ntheta, nlines = 20, verbose = False):\n",
    "        # ...\n",
    "        return linepar, acc\n",
    "         \n"
   ]
  }
 ],
 "metadata": {
  "kernelspec": {
   "display_name": "Python 3.8.6 64-bit",
   "language": "python",
   "name": "python3"
  },
  "language_info": {
   "codemirror_mode": {
    "name": "ipython",
    "version": 3
   },
   "file_extension": ".py",
   "mimetype": "text/x-python",
   "name": "python",
   "nbconvert_exporter": "python",
   "pygments_lexer": "ipython3",
   "version": "3.8.6"
  },
  "orig_nbformat": 4,
  "vscode": {
   "interpreter": {
    "hash": "3a4fd3c0dcbc658b189fbf5814096262f6268a6dc22fca0ed725de03044a0d6b"
   }
  }
 },
 "nbformat": 4,
 "nbformat_minor": 2
}
